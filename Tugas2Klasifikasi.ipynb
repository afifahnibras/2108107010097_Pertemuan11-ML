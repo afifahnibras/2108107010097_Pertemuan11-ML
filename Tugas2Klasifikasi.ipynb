{
  "cells": [
    {
      "cell_type": "markdown",
      "metadata": {},
      "source": [
        "Nama : Afifah Nibras\n",
        "\n",
        "NPM : 2108107010097\n",
        "\n",
        "Link Dataset : https://www.kaggle.com/datasets/meruvulikith/campus-selection-classification-dataset\n",
        "\n",
        "Dataset tersebut mempunyai 14 kolom yaitu sl_no\tgender,\tssc_p,\tssc_b,\thsc_p,\thsc_b,\thsc_s,\tdegree_p,\tdegree_t,\tworkex,\tetest_p,\tspecialisation\tmba_p, dan\tstatus. Namun saya tidak mengambil semua kolom tersebut. Saya menentukan kolom ssc_p dan kolom hsc_p sebagai fitur. Dan untuk label saya mengambil kolom status. Darisitu saya melakukan klasifikasi status mahasiswa yang menjadi kandidat mendapatkan posisi atau tidak berdasarkan persentase skor pada pendidikan menengah dan pendidikan menengah tinggi."
      ]
    },
    {
      "cell_type": "code",
      "execution_count": 2,
      "metadata": {
        "id": "Go682GkK8RfC"
      },
      "outputs": [],
      "source": [
        "# Import library yang diperlukan\n",
        "\n",
        "import numpy as np \n",
        "import matplotlib.pyplot as plt \n",
        "import pandas as pd \n",
        "from sklearn.preprocessing import LabelEncoder, OneHotEncoder \n",
        "from sklearn.compose import ColumnTransformer \n",
        "from sklearn.model_selection import train_test_split \n",
        "from sklearn.preprocessing import StandardScaler \n",
        "from tensorflow.keras.models import Sequential \n",
        "from tensorflow.keras.layers import Dense \n",
        "from sklearn.model_selection import train_test_split \n",
        "import pandas as pd \n",
        "from sklearn.metrics import classification_report "
      ]
    },
    {
      "cell_type": "code",
      "execution_count": 3,
      "metadata": {
        "id": "zoOfvuf-G716"
      },
      "outputs": [],
      "source": [
        "# Memasukkan dataset\n",
        "data = pd.read_csv('Campus_Selection.csv')\n"
      ]
    },
    {
      "cell_type": "code",
      "execution_count": 4,
      "metadata": {
        "colab": {
          "base_uri": "https://localhost:8080/",
          "height": 423
        },
        "id": "PfLu33uyQla4",
        "outputId": "f357423d-7124-4420-f7bf-7f169de17f1d"
      },
      "outputs": [
        {
          "data": {
            "text/html": [
              "<div>\n",
              "<style scoped>\n",
              "    .dataframe tbody tr th:only-of-type {\n",
              "        vertical-align: middle;\n",
              "    }\n",
              "\n",
              "    .dataframe tbody tr th {\n",
              "        vertical-align: top;\n",
              "    }\n",
              "\n",
              "    .dataframe thead th {\n",
              "        text-align: right;\n",
              "    }\n",
              "</style>\n",
              "<table border=\"1\" class=\"dataframe\">\n",
              "  <thead>\n",
              "    <tr style=\"text-align: right;\">\n",
              "      <th></th>\n",
              "      <th>sl_no</th>\n",
              "      <th>gender</th>\n",
              "      <th>ssc_p</th>\n",
              "      <th>ssc_b</th>\n",
              "      <th>hsc_p</th>\n",
              "      <th>hsc_b</th>\n",
              "      <th>hsc_s</th>\n",
              "      <th>degree_p</th>\n",
              "      <th>degree_t</th>\n",
              "      <th>workex</th>\n",
              "      <th>etest_p</th>\n",
              "      <th>specialisation</th>\n",
              "      <th>mba_p</th>\n",
              "      <th>status</th>\n",
              "    </tr>\n",
              "  </thead>\n",
              "  <tbody>\n",
              "    <tr>\n",
              "      <th>0</th>\n",
              "      <td>1</td>\n",
              "      <td>M</td>\n",
              "      <td>67.00</td>\n",
              "      <td>Others</td>\n",
              "      <td>91.00</td>\n",
              "      <td>Others</td>\n",
              "      <td>Commerce</td>\n",
              "      <td>58.00</td>\n",
              "      <td>Sci&amp;Tech</td>\n",
              "      <td>No</td>\n",
              "      <td>55.0</td>\n",
              "      <td>Mkt&amp;HR</td>\n",
              "      <td>58.80</td>\n",
              "      <td>Placed</td>\n",
              "    </tr>\n",
              "    <tr>\n",
              "      <th>1</th>\n",
              "      <td>2</td>\n",
              "      <td>M</td>\n",
              "      <td>79.33</td>\n",
              "      <td>Central</td>\n",
              "      <td>78.33</td>\n",
              "      <td>Others</td>\n",
              "      <td>Science</td>\n",
              "      <td>77.48</td>\n",
              "      <td>Sci&amp;Tech</td>\n",
              "      <td>Yes</td>\n",
              "      <td>86.5</td>\n",
              "      <td>Mkt&amp;Fin</td>\n",
              "      <td>66.28</td>\n",
              "      <td>Placed</td>\n",
              "    </tr>\n",
              "    <tr>\n",
              "      <th>2</th>\n",
              "      <td>3</td>\n",
              "      <td>M</td>\n",
              "      <td>65.00</td>\n",
              "      <td>Central</td>\n",
              "      <td>68.00</td>\n",
              "      <td>Central</td>\n",
              "      <td>Arts</td>\n",
              "      <td>64.00</td>\n",
              "      <td>Comm&amp;Mgmt</td>\n",
              "      <td>No</td>\n",
              "      <td>75.0</td>\n",
              "      <td>Mkt&amp;Fin</td>\n",
              "      <td>57.80</td>\n",
              "      <td>Placed</td>\n",
              "    </tr>\n",
              "    <tr>\n",
              "      <th>3</th>\n",
              "      <td>4</td>\n",
              "      <td>M</td>\n",
              "      <td>56.00</td>\n",
              "      <td>Central</td>\n",
              "      <td>52.00</td>\n",
              "      <td>Central</td>\n",
              "      <td>Science</td>\n",
              "      <td>52.00</td>\n",
              "      <td>Sci&amp;Tech</td>\n",
              "      <td>No</td>\n",
              "      <td>66.0</td>\n",
              "      <td>Mkt&amp;HR</td>\n",
              "      <td>59.43</td>\n",
              "      <td>Not Placed</td>\n",
              "    </tr>\n",
              "    <tr>\n",
              "      <th>4</th>\n",
              "      <td>5</td>\n",
              "      <td>M</td>\n",
              "      <td>85.80</td>\n",
              "      <td>Central</td>\n",
              "      <td>73.60</td>\n",
              "      <td>Central</td>\n",
              "      <td>Commerce</td>\n",
              "      <td>73.30</td>\n",
              "      <td>Comm&amp;Mgmt</td>\n",
              "      <td>No</td>\n",
              "      <td>96.8</td>\n",
              "      <td>Mkt&amp;Fin</td>\n",
              "      <td>55.50</td>\n",
              "      <td>Placed</td>\n",
              "    </tr>\n",
              "    <tr>\n",
              "      <th>...</th>\n",
              "      <td>...</td>\n",
              "      <td>...</td>\n",
              "      <td>...</td>\n",
              "      <td>...</td>\n",
              "      <td>...</td>\n",
              "      <td>...</td>\n",
              "      <td>...</td>\n",
              "      <td>...</td>\n",
              "      <td>...</td>\n",
              "      <td>...</td>\n",
              "      <td>...</td>\n",
              "      <td>...</td>\n",
              "      <td>...</td>\n",
              "      <td>...</td>\n",
              "    </tr>\n",
              "    <tr>\n",
              "      <th>210</th>\n",
              "      <td>211</td>\n",
              "      <td>M</td>\n",
              "      <td>80.60</td>\n",
              "      <td>Others</td>\n",
              "      <td>82.00</td>\n",
              "      <td>Others</td>\n",
              "      <td>Commerce</td>\n",
              "      <td>77.60</td>\n",
              "      <td>Comm&amp;Mgmt</td>\n",
              "      <td>No</td>\n",
              "      <td>91.0</td>\n",
              "      <td>Mkt&amp;Fin</td>\n",
              "      <td>74.49</td>\n",
              "      <td>Placed</td>\n",
              "    </tr>\n",
              "    <tr>\n",
              "      <th>211</th>\n",
              "      <td>212</td>\n",
              "      <td>M</td>\n",
              "      <td>58.00</td>\n",
              "      <td>Others</td>\n",
              "      <td>60.00</td>\n",
              "      <td>Others</td>\n",
              "      <td>Science</td>\n",
              "      <td>72.00</td>\n",
              "      <td>Sci&amp;Tech</td>\n",
              "      <td>No</td>\n",
              "      <td>74.0</td>\n",
              "      <td>Mkt&amp;Fin</td>\n",
              "      <td>53.62</td>\n",
              "      <td>Placed</td>\n",
              "    </tr>\n",
              "    <tr>\n",
              "      <th>212</th>\n",
              "      <td>213</td>\n",
              "      <td>M</td>\n",
              "      <td>67.00</td>\n",
              "      <td>Others</td>\n",
              "      <td>67.00</td>\n",
              "      <td>Others</td>\n",
              "      <td>Commerce</td>\n",
              "      <td>73.00</td>\n",
              "      <td>Comm&amp;Mgmt</td>\n",
              "      <td>Yes</td>\n",
              "      <td>59.0</td>\n",
              "      <td>Mkt&amp;Fin</td>\n",
              "      <td>69.72</td>\n",
              "      <td>Placed</td>\n",
              "    </tr>\n",
              "    <tr>\n",
              "      <th>213</th>\n",
              "      <td>214</td>\n",
              "      <td>F</td>\n",
              "      <td>74.00</td>\n",
              "      <td>Others</td>\n",
              "      <td>66.00</td>\n",
              "      <td>Others</td>\n",
              "      <td>Commerce</td>\n",
              "      <td>58.00</td>\n",
              "      <td>Comm&amp;Mgmt</td>\n",
              "      <td>No</td>\n",
              "      <td>70.0</td>\n",
              "      <td>Mkt&amp;HR</td>\n",
              "      <td>60.23</td>\n",
              "      <td>Placed</td>\n",
              "    </tr>\n",
              "    <tr>\n",
              "      <th>214</th>\n",
              "      <td>215</td>\n",
              "      <td>M</td>\n",
              "      <td>62.00</td>\n",
              "      <td>Central</td>\n",
              "      <td>58.00</td>\n",
              "      <td>Others</td>\n",
              "      <td>Science</td>\n",
              "      <td>53.00</td>\n",
              "      <td>Comm&amp;Mgmt</td>\n",
              "      <td>No</td>\n",
              "      <td>89.0</td>\n",
              "      <td>Mkt&amp;HR</td>\n",
              "      <td>60.22</td>\n",
              "      <td>Not Placed</td>\n",
              "    </tr>\n",
              "  </tbody>\n",
              "</table>\n",
              "<p>215 rows × 14 columns</p>\n",
              "</div>"
            ],
            "text/plain": [
              "     sl_no gender  ssc_p    ssc_b  hsc_p    hsc_b     hsc_s  degree_p  \\\n",
              "0        1      M  67.00   Others  91.00   Others  Commerce     58.00   \n",
              "1        2      M  79.33  Central  78.33   Others   Science     77.48   \n",
              "2        3      M  65.00  Central  68.00  Central      Arts     64.00   \n",
              "3        4      M  56.00  Central  52.00  Central   Science     52.00   \n",
              "4        5      M  85.80  Central  73.60  Central  Commerce     73.30   \n",
              "..     ...    ...    ...      ...    ...      ...       ...       ...   \n",
              "210    211      M  80.60   Others  82.00   Others  Commerce     77.60   \n",
              "211    212      M  58.00   Others  60.00   Others   Science     72.00   \n",
              "212    213      M  67.00   Others  67.00   Others  Commerce     73.00   \n",
              "213    214      F  74.00   Others  66.00   Others  Commerce     58.00   \n",
              "214    215      M  62.00  Central  58.00   Others   Science     53.00   \n",
              "\n",
              "      degree_t workex  etest_p specialisation  mba_p      status  \n",
              "0     Sci&Tech     No     55.0         Mkt&HR  58.80      Placed  \n",
              "1     Sci&Tech    Yes     86.5        Mkt&Fin  66.28      Placed  \n",
              "2    Comm&Mgmt     No     75.0        Mkt&Fin  57.80      Placed  \n",
              "3     Sci&Tech     No     66.0         Mkt&HR  59.43  Not Placed  \n",
              "4    Comm&Mgmt     No     96.8        Mkt&Fin  55.50      Placed  \n",
              "..         ...    ...      ...            ...    ...         ...  \n",
              "210  Comm&Mgmt     No     91.0        Mkt&Fin  74.49      Placed  \n",
              "211   Sci&Tech     No     74.0        Mkt&Fin  53.62      Placed  \n",
              "212  Comm&Mgmt    Yes     59.0        Mkt&Fin  69.72      Placed  \n",
              "213  Comm&Mgmt     No     70.0         Mkt&HR  60.23      Placed  \n",
              "214  Comm&Mgmt     No     89.0         Mkt&HR  60.22  Not Placed  \n",
              "\n",
              "[215 rows x 14 columns]"
            ]
          },
          "execution_count": 4,
          "metadata": {},
          "output_type": "execute_result"
        }
      ],
      "source": [
        "# Membaca dataset\n",
        "data"
      ]
    },
    {
      "cell_type": "code",
      "execution_count": 5,
      "metadata": {
        "id": "xS0kSp7HWRM3"
      },
      "outputs": [],
      "source": [
        "# Menghapus kolom yang tidak diperlukan\n",
        "data = data.drop(columns=['sl_no', 'gender', 'ssc_b', 'hsc_b', 'degree_t', 'workex', 'specialisation'])"
      ]
    },
    {
      "cell_type": "code",
      "execution_count": 6,
      "metadata": {
        "colab": {
          "base_uri": "https://localhost:8080/"
        },
        "id": "ar7YFu2Na2x5",
        "outputId": "939cb322-b8bc-408b-9060-a8462d614d7a"
      },
      "outputs": [
        {
          "name": "stdout",
          "output_type": "stream",
          "text": [
            "<class 'pandas.core.frame.DataFrame'>\n",
            "RangeIndex: 215 entries, 0 to 214\n",
            "Data columns (total 7 columns):\n",
            " #   Column    Non-Null Count  Dtype  \n",
            "---  ------    --------------  -----  \n",
            " 0   ssc_p     215 non-null    float64\n",
            " 1   hsc_p     215 non-null    float64\n",
            " 2   hsc_s     215 non-null    object \n",
            " 3   degree_p  215 non-null    float64\n",
            " 4   etest_p   215 non-null    float64\n",
            " 5   mba_p     215 non-null    float64\n",
            " 6   status    215 non-null    object \n",
            "dtypes: float64(5), object(2)\n",
            "memory usage: 11.9+ KB\n"
          ]
        }
      ],
      "source": [
        "# Menampilkan kolom apa saja setelah dihapus beberapa kolom\n",
        "data.info()"
      ]
    },
    {
      "cell_type": "code",
      "execution_count": 7,
      "metadata": {
        "id": "BxDSRR1ueek4"
      },
      "outputs": [],
      "source": [
        "# Melakukan encoding\n",
        "from sklearn.preprocessing import LabelEncoder\n",
        "label_encoder = LabelEncoder()\n",
        "\n",
        "data['status'] = label_encoder.fit_transform(data['status'])"
      ]
    },
    {
      "cell_type": "code",
      "execution_count": 8,
      "metadata": {
        "id": "_Lm1RbRqL_SY"
      },
      "outputs": [],
      "source": [
        "# Menentukan fitur dan target\n",
        "X = data.iloc[:, [0, 1]].values\n",
        "y = data.iloc[:, 6].values"
      ]
    },
    {
      "cell_type": "code",
      "execution_count": 9,
      "metadata": {
        "id": "FDLHlve0Mg43"
      },
      "outputs": [],
      "source": [
        "# Membagi dataset menjadi training dan testing\n",
        "from sklearn.model_selection import train_test_split\n",
        "X_train, X_test, y_train, y_test = train_test_split(X, y, test_size = 0.25, random_state = 0)"
      ]
    },
    {
      "cell_type": "code",
      "execution_count": 10,
      "metadata": {
        "id": "cU7FaCmLMjrk"
      },
      "outputs": [],
      "source": [
        "# Feature Scaling\n",
        "from sklearn.preprocessing import StandardScaler\n",
        "sc = StandardScaler()\n",
        "X_train = sc.fit_transform(X_train)\n",
        "X_test = sc.transform(X_test)"
      ]
    },
    {
      "cell_type": "code",
      "execution_count": 11,
      "metadata": {},
      "outputs": [],
      "source": [
        "# Membangun model\n",
        "model_ann = Sequential()                          \n",
        "model_ann.add(Dense(units=6, activation=\"relu\"))  \n",
        "model_ann.add(Dense(units=6, activation=\"relu\"))  \n",
        "model_ann.add(Dense(units=1))"
      ]
    },
    {
      "cell_type": "code",
      "execution_count": 12,
      "metadata": {},
      "outputs": [],
      "source": [
        "# Mengompilasi model \n",
        "model_ann.compile(optimizer=\"adam\",loss=\"mean_squared_error\")"
      ]
    },
    {
      "cell_type": "code",
      "execution_count": 13,
      "metadata": {},
      "outputs": [
        {
          "name": "stdout",
          "output_type": "stream",
          "text": [
            "Epoch 1/40\n"
          ]
        },
        {
          "name": "stdout",
          "output_type": "stream",
          "text": [
            "6/6 [==============================] - 1s 34ms/step - loss: 1.1639 - val_loss: 1.2122\n",
            "Epoch 2/40\n",
            "6/6 [==============================] - 0s 9ms/step - loss: 1.1107 - val_loss: 1.1592\n",
            "Epoch 3/40\n",
            "6/6 [==============================] - 0s 9ms/step - loss: 1.0662 - val_loss: 1.1125\n",
            "Epoch 4/40\n",
            "6/6 [==============================] - 0s 9ms/step - loss: 1.0250 - val_loss: 1.0705\n",
            "Epoch 5/40\n",
            "6/6 [==============================] - 0s 6ms/step - loss: 0.9872 - val_loss: 1.0291\n",
            "Epoch 6/40\n",
            "6/6 [==============================] - 0s 6ms/step - loss: 0.9501 - val_loss: 0.9926\n",
            "Epoch 7/40\n",
            "6/6 [==============================] - 0s 6ms/step - loss: 0.9186 - val_loss: 0.9598\n",
            "Epoch 8/40\n",
            "6/6 [==============================] - 0s 6ms/step - loss: 0.8895 - val_loss: 0.9289\n",
            "Epoch 9/40\n",
            "6/6 [==============================] - 0s 10ms/step - loss: 0.8627 - val_loss: 0.9000\n",
            "Epoch 10/40\n",
            "6/6 [==============================] - 0s 7ms/step - loss: 0.8371 - val_loss: 0.8739\n",
            "Epoch 11/40\n",
            "6/6 [==============================] - 0s 9ms/step - loss: 0.8136 - val_loss: 0.8481\n",
            "Epoch 12/40\n",
            "6/6 [==============================] - 0s 9ms/step - loss: 0.7900 - val_loss: 0.8227\n",
            "Epoch 13/40\n",
            "6/6 [==============================] - 0s 6ms/step - loss: 0.7685 - val_loss: 0.8003\n",
            "Epoch 14/40\n",
            "6/6 [==============================] - 0s 15ms/step - loss: 0.7485 - val_loss: 0.7785\n",
            "Epoch 15/40\n",
            "6/6 [==============================] - 0s 10ms/step - loss: 0.7295 - val_loss: 0.7592\n",
            "Epoch 16/40\n",
            "6/6 [==============================] - 0s 12ms/step - loss: 0.7113 - val_loss: 0.7400\n",
            "Epoch 17/40\n",
            "6/6 [==============================] - 0s 12ms/step - loss: 0.6930 - val_loss: 0.7206\n",
            "Epoch 18/40\n",
            "6/6 [==============================] - 0s 10ms/step - loss: 0.6760 - val_loss: 0.7031\n",
            "Epoch 19/40\n",
            "6/6 [==============================] - 0s 11ms/step - loss: 0.6609 - val_loss: 0.6866\n",
            "Epoch 20/40\n",
            "6/6 [==============================] - 0s 11ms/step - loss: 0.6456 - val_loss: 0.6714\n",
            "Epoch 21/40\n",
            "6/6 [==============================] - 0s 11ms/step - loss: 0.6325 - val_loss: 0.6574\n",
            "Epoch 22/40\n",
            "6/6 [==============================] - 0s 13ms/step - loss: 0.6206 - val_loss: 0.6436\n",
            "Epoch 23/40\n",
            "6/6 [==============================] - 0s 10ms/step - loss: 0.6078 - val_loss: 0.6303\n",
            "Epoch 24/40\n",
            "6/6 [==============================] - 0s 10ms/step - loss: 0.5962 - val_loss: 0.6178\n",
            "Epoch 25/40\n",
            "6/6 [==============================] - 0s 8ms/step - loss: 0.5851 - val_loss: 0.6058\n",
            "Epoch 26/40\n",
            "6/6 [==============================] - 0s 9ms/step - loss: 0.5744 - val_loss: 0.5935\n",
            "Epoch 27/40\n",
            "6/6 [==============================] - 0s 12ms/step - loss: 0.5631 - val_loss: 0.5815\n",
            "Epoch 28/40\n",
            "6/6 [==============================] - 0s 8ms/step - loss: 0.5534 - val_loss: 0.5711\n",
            "Epoch 29/40\n",
            "6/6 [==============================] - 0s 22ms/step - loss: 0.5444 - val_loss: 0.5617\n",
            "Epoch 30/40\n",
            "6/6 [==============================] - 0s 6ms/step - loss: 0.5361 - val_loss: 0.5523\n",
            "Epoch 31/40\n",
            "6/6 [==============================] - 0s 12ms/step - loss: 0.5276 - val_loss: 0.5432\n",
            "Epoch 32/40\n",
            "6/6 [==============================] - 0s 12ms/step - loss: 0.5195 - val_loss: 0.5347\n",
            "Epoch 33/40\n",
            "6/6 [==============================] - 0s 12ms/step - loss: 0.5120 - val_loss: 0.5256\n",
            "Epoch 34/40\n",
            "6/6 [==============================] - 0s 12ms/step - loss: 0.5042 - val_loss: 0.5175\n",
            "Epoch 35/40\n",
            "6/6 [==============================] - 0s 11ms/step - loss: 0.4970 - val_loss: 0.5100\n",
            "Epoch 36/40\n",
            "6/6 [==============================] - 0s 10ms/step - loss: 0.4904 - val_loss: 0.5023\n",
            "Epoch 37/40\n",
            "6/6 [==============================] - 0s 10ms/step - loss: 0.4836 - val_loss: 0.4948\n",
            "Epoch 38/40\n",
            "6/6 [==============================] - 0s 11ms/step - loss: 0.4768 - val_loss: 0.4881\n",
            "Epoch 39/40\n",
            "6/6 [==============================] - 0s 10ms/step - loss: 0.4705 - val_loss: 0.4812\n",
            "Epoch 40/40\n",
            "6/6 [==============================] - 0s 12ms/step - loss: 0.4644 - val_loss: 0.4749\n"
          ]
        },
        {
          "data": {
            "text/plain": [
              "<keras.src.callbacks.History at 0x13b1aa6a810>"
            ]
          },
          "execution_count": 13,
          "metadata": {},
          "output_type": "execute_result"
        }
      ],
      "source": [
        "# Melatih model\n",
        "from tensorflow.keras.callbacks import EarlyStopping\n",
        "model_ann.fit(x=X_train, y=y_train, epochs=40, batch_size=32,validation_data=(X_test,y_test),callbacks=EarlyStopping(monitor='val_loss',patience=4))"
      ]
    },
    {
      "cell_type": "code",
      "execution_count": 18,
      "metadata": {},
      "outputs": [
        {
          "name": "stdout",
          "output_type": "stream",
          "text": [
            "2/2 [==============================] - 0s 0s/step\n"
          ]
        }
      ],
      "source": [
        "# Evaluate the model\n",
        "y_pred = model_ann.predict(X_test)"
      ]
    },
    {
      "cell_type": "code",
      "execution_count": null,
      "metadata": {},
      "outputs": [
        {
          "name": "stdout",
          "output_type": "stream",
          "text": [
            "2/2 [==============================] - 0s 0s/step\n",
            "Classification Report for Test Data:\n",
            "              precision    recall  f1-score    support\n",
            "0              0.314815  1.000000  0.478873  17.000000\n",
            "1              0.000000  0.000000  0.000000  37.000000\n",
            "accuracy       0.314815  0.314815  0.314815   0.314815\n",
            "macro avg      0.157407  0.500000  0.239437  54.000000\n",
            "weighted avg   0.099108  0.314815  0.150756  54.000000\n"
          ]
        },
        {
          "name": "stderr",
          "output_type": "stream",
          "text": [
            "c:\\Users\\USER DK\\AppData\\Local\\Programs\\Python\\Python311\\Lib\\site-packages\\sklearn\\metrics\\_classification.py:1471: UndefinedMetricWarning: Precision and F-score are ill-defined and being set to 0.0 in labels with no predicted samples. Use `zero_division` parameter to control this behavior.\n",
            "  _warn_prf(average, modifier, msg_start, len(result))\n",
            "c:\\Users\\USER DK\\AppData\\Local\\Programs\\Python\\Python311\\Lib\\site-packages\\sklearn\\metrics\\_classification.py:1471: UndefinedMetricWarning: Precision and F-score are ill-defined and being set to 0.0 in labels with no predicted samples. Use `zero_division` parameter to control this behavior.\n",
            "  _warn_prf(average, modifier, msg_start, len(result))\n",
            "c:\\Users\\USER DK\\AppData\\Local\\Programs\\Python\\Python311\\Lib\\site-packages\\sklearn\\metrics\\_classification.py:1471: UndefinedMetricWarning: Precision and F-score are ill-defined and being set to 0.0 in labels with no predicted samples. Use `zero_division` parameter to control this behavior.\n",
            "  _warn_prf(average, modifier, msg_start, len(result))\n"
          ]
        }
      ],
      "source": [
        "# Melakukan prediksi pada data test\n",
        "y_pred_test = model_ann.predict(X_test)\n",
        "y_pred_classes_test = np.argmax(y_pred_test, axis=1)\n",
        "\n",
        "# Mengonversi label yang sudah diencode kembali ke label aslinya untuk data test\n",
        "y_test_orig = label_encoder.inverse_transform(y_test)\n",
        "y_pred_orig_test = label_encoder.inverse_transform(y_pred_classes_test)\n",
        "\n",
        "# Membuat classification report untuk data test\n",
        "report_test = classification_report(y_test_orig, y_pred_orig_test, output_dict=True)\n",
        "\n",
        "# Mengonversi classification report ke dalam bentuk DataFrame\n",
        "df_report_test = pd.DataFrame(report_test).transpose()\n",
        "\n",
        "# Mencetak classification report untuk data test\n",
        "print(\"Classification Report for Test Data:\")\n",
        "print(df_report_test)"
      ]
    }
  ],
  "metadata": {
    "colab": {
      "provenance": []
    },
    "kernelspec": {
      "display_name": "Python 3",
      "name": "python3"
    },
    "language_info": {
      "codemirror_mode": {
        "name": "ipython",
        "version": 3
      },
      "file_extension": ".py",
      "mimetype": "text/x-python",
      "name": "python",
      "nbconvert_exporter": "python",
      "pygments_lexer": "ipython3",
      "version": "3.11.5"
    }
  },
  "nbformat": 4,
  "nbformat_minor": 0
}
